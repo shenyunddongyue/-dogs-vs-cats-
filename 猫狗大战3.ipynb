{
 "cells": [
  {
   "cell_type": "code",
   "execution_count": 14,
   "metadata": {},
   "outputs": [],
   "source": [
    "# import os\n",
    "# import shutil"
   ]
  },
  {
   "cell_type": "code",
   "execution_count": 15,
   "metadata": {},
   "outputs": [],
   "source": [
    "# data_file = os.listdir(\"./kaggle_dog_vs_cat/data/train\")\n",
    "# dog_file = list(filter(lambda x: x[:3]=='dog', data_file))#Python使用lambda来创建匿名函数。\n",
    "# cat_file = list(filter(lambda x: x[:3]=='cat', data_file))"
   ]
  },
  {
   "cell_type": "code",
   "execution_count": 17,
   "metadata": {},
   "outputs": [],
   "source": [
    "# root = './kaggle_dog_vs_cat/data/'\n",
    "# train_root = './kaggle_dog_vs_cat/data/train1'\n",
    "# val_root = './kaggle_dog_vs_cat/data/val'\n",
    "# for i in range(len(dog_file)):\n",
    "#     pic_path = root + 'train/' + dog_file[i]\n",
    "#     if i < len(dog_file)*0.9:\n",
    "#         obj_path = train_root + '/dog/' + dog_file[i]\n",
    "#     else:\n",
    "#         obj_path = val_root + '/dog/' + dog_file[i]\n",
    "#     shutil.move(pic_path, obj_path)\n",
    "\n",
    "# for i in range(len(cat_file)):\n",
    "#     pic_path = root + 'train/' + cat_file[i]\n",
    "#     if i < len(dog_file)*0.9:\n",
    "#         obj_path = train_root + '/cat/' + cat_file[i]\n",
    "#     else:\n",
    "#         obj_path = val_root + '/cat/' + cat_file[i]\n",
    "#     shutil.move(pic_path, obj_path)"
   ]
  },
  {
   "cell_type": "code",
   "execution_count": 19,
   "metadata": {},
   "outputs": [],
   "source": [
    "import torch\n",
    "from  torchvision import models\n",
    "import torch.nn as nn"
   ]
  },
  {
   "cell_type": "code",
   "execution_count": 22,
   "metadata": {},
   "outputs": [],
   "source": [
    "img_classes = 2\n",
    "transfer_model = models.resnet18(pretrained=True)\n",
    "dim_in = transfer_model.fc.in_features\n",
    "transfer_model.fc = nn.Linear(dim_in, img_classes)"
   ]
  },
  {
   "cell_type": "code",
   "execution_count": null,
   "metadata": {},
   "outputs": [],
   "source": [
    "def train():\n",
    "    "
   ]
  }
 ],
 "metadata": {
  "kernelspec": {
   "display_name": "Python 3",
   "language": "python",
   "name": "python3"
  },
  "language_info": {
   "codemirror_mode": {
    "name": "ipython",
    "version": 3
   },
   "file_extension": ".py",
   "mimetype": "text/x-python",
   "name": "python",
   "nbconvert_exporter": "python",
   "pygments_lexer": "ipython3",
   "version": "3.7.0"
  }
 },
 "nbformat": 4,
 "nbformat_minor": 2
}
